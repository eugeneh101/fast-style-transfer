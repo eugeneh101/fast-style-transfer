{
 "cells": [
  {
   "cell_type": "code",
   "execution_count": null,
   "metadata": {},
   "outputs": [],
   "source": [
    "!time ./setup.sh"
   ]
  },
  {
   "cell_type": "code",
   "execution_count": null,
   "metadata": {},
   "outputs": [],
   "source": [
    "!source activate tensorflow"
   ]
  },
  {
   "cell_type": "code",
   "execution_count": null,
   "metadata": {},
   "outputs": [],
   "source": [
    "!mkdir checkpoint"
   ]
  },
  {
   "cell_type": "code",
   "execution_count": null,
   "metadata": {},
   "outputs": [],
   "source": [
    "# learn art style: train model\n",
    "# upload steampunk image\n",
    "!python style.py --style steampunk.jpg --checkpoint-dir checkpoint --test-dir data --content-weight 1.5e1 --checkpoint-iterations 10 --batch-size 20\n",
    "!nvidia-smi # Disp.A Memory-Usage to read how much GPU RAM is used; Volatile GPU-Util grossly inaccurate\n",
    "# remove test-dir and other parameters for now\n",
    "# use small batches if training pictures are bigger"
   ]
  },
  {
   "cell_type": "code",
   "execution_count": null,
   "metadata": {},
   "outputs": [],
   "source": []
  },
  {
   "cell_type": "code",
   "execution_count": null,
   "metadata": {},
   "outputs": [],
   "source": [
    "# apply style on another picture, compare CPU vs GPU\n",
    "# I don't think there are any other important parameters\n",
    "# apply style on another picture\n",
    "!time python evaluate.py --checkpoint checkpoint --in-path examples/style/rain_princess.jpg --out-path ../output_image.jpg\n",
    "# real    0m10.910s\n",
    "# user    0m3.724s\n",
    "# sys     0m2.604s"
   ]
  },
  {
   "cell_type": "code",
   "execution_count": null,
   "metadata": {},
   "outputs": [],
   "source": [
    "# apply style to video\n",
    "# upload video: play_dead.mp4\n",
    "# use smaller minibatch if video very high resolution\n",
    "!time python transform_video.py --in-path ../play_dead.mp4   --checkpoint checkpoint   --out-path ../output_video.mp4   --device /gpu:0   --batch-size 16\n",
    "\n",
    "real    0m21.911s\n",
    "user    0m21.968s\n",
    "sys     0m6.760s"
   ]
  },
  {
   "cell_type": "code",
   "execution_count": null,
   "metadata": {},
   "outputs": [],
   "source": []
  },
  {
   "cell_type": "code",
   "execution_count": null,
   "metadata": {},
   "outputs": [],
   "source": [
    "--style, --checkpoint-dir # explicitly required\n",
    "--train-path, --vgg-path # implicitly required\n",
    "\n",
    "--epochs, --checkpoint-iterations, --batch-size,# optional\n",
    "--test, --test-dir, --content-weight, --style-weight, --tv-weight, --learning-rate # more optional"
   ]
  }
 ],
 "metadata": {
  "kernelspec": {
   "display_name": "Python 3",
   "language": "python",
   "name": "python3"
  },
  "language_info": {
   "codemirror_mode": {
    "name": "ipython",
    "version": 3
   },
   "file_extension": ".py",
   "mimetype": "text/x-python",
   "name": "python",
   "nbconvert_exporter": "python",
   "pygments_lexer": "ipython3",
   "version": "3.6.4"
  }
 },
 "nbformat": 4,
 "nbformat_minor": 2
}
