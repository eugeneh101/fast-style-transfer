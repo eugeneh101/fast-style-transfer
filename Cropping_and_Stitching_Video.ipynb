{
 "cells": [
  {
   "cell_type": "code",
   "execution_count": null,
   "metadata": {},
   "outputs": [],
   "source": [
    "!sudo add-apt-repository -y ppa:djcj/hybrid\n",
    "!sudo apt-get update\n",
    "!sudo apt-get install ffmpeg -y\n",
    "\n",
    "#!conda remove ffmpeg\n",
    "#!conda install -c joemarct ffmpeg \n",
    "!pip install ffmpeg-python"
   ]
  },
  {
   "cell_type": "code",
   "execution_count": null,
   "metadata": {},
   "outputs": [],
   "source": []
  },
  {
   "cell_type": "code",
   "execution_count": 10,
   "metadata": {},
   "outputs": [
    {
     "name": "stdout",
     "output_type": "stream",
     "text": [
      "play_dead.mp4\r\n"
     ]
    }
   ],
   "source": [
    "!ls ../input_video"
   ]
  },
  {
   "cell_type": "code",
   "execution_count": 1,
   "metadata": {
    "scrolled": false
   },
   "outputs": [
    {
     "name": "stdout",
     "output_type": "stream",
     "text": [
      "CPU times: user 456 ms, sys: 148 ms, total: 604 ms\n",
      "Wall time: 3.57 s\n"
     ]
    }
   ],
   "source": [
    "%%time\n",
    "import ffmpeg\n",
    "import moviepy.editor as mpe\n",
    "import os\n",
    "\n",
    "\n",
    "\n",
    "def crop_video(input_video_path, ith_video, jth_horizontal_partition, \n",
    "        kth_vertical_partition, num_horizontal_partitions, num_vertical_partitions):    \n",
    "    video_dir = os.path.dirname(input_video_path)\n",
    "    video_filename = os.path.basename(input_video_path)\n",
    "    \n",
    "    video_width, video_height = mpe.VideoFileClip(input_video_path).size\n",
    "    y_delta = int(video_height / num_horizontal_partitions)\n",
    "    x_delta = int(video_width / num_vertical_partitions)\n",
    "    x1 = kth_vertical_partition * x_delta\n",
    "    y1 = jth_horizontal_partition * y_delta\n",
    "\n",
    "    output_video = '{}_{}'.format(ith_video, video_filename)\n",
    "    output_video_path = os.path.join(video_dir, output_video)\n",
    "    if os.path.isfile(output_video_path):\n",
    "        os.remove(output_video_path)\n",
    "    (ffmpeg\n",
    "        .input(input_video_path)\n",
    "        .crop(x1, y1, x_delta, y_delta) # this requires left upper corner and deltas\n",
    "        .output(output_video_path)\n",
    "        .run()\n",
    "    )\n",
    "\n",
    "if __name__ == \"__main__\":\n",
    "    num_horizontal_partitions = 2 ### define here\n",
    "    num_vertical_partitions = 2 ### define here\n",
    "    input_video_path = '../input_video/play_dead.mp4' ### define here\n",
    "\n",
    "    ith_video = 0\n",
    "    for jth_horizontal_partition in range(num_horizontal_partitions):\n",
    "        for kth_vertical_partition in range(num_vertical_partitions):\n",
    "            crop_video(input_video_path, ith_video, \n",
    "                       jth_horizontal_partition, kth_vertical_partition, \n",
    "                       num_horizontal_partitions, num_vertical_partitions)\n",
    "            ith_video += 1"
   ]
  },
  {
   "cell_type": "code",
   "execution_count": null,
   "metadata": {},
   "outputs": [],
   "source": []
  },
  {
   "cell_type": "code",
   "execution_count": 1,
   "metadata": {},
   "outputs": [
    {
     "name": "stdout",
     "output_type": "stream",
     "text": [
      "[MoviePy] >>>> Building video ../input_video/stitched_play_dead.mp4\n",
      "[MoviePy] Writing video ../input_video/stitched_play_dead.mp4\n"
     ]
    },
    {
     "name": "stderr",
     "output_type": "stream",
     "text": [
      "100%|██████████| 158/158 [00:02<00:00, 63.36it/s]\n"
     ]
    },
    {
     "name": "stdout",
     "output_type": "stream",
     "text": [
      "[MoviePy] Done.\n",
      "[MoviePy] >>>> Video ready: ../input_video/stitched_play_dead.mp4 \n",
      "\n",
      "CPU times: user 1.95 s, sys: 264 ms, total: 2.21 s\n",
      "Wall time: 3.83 s\n"
     ]
    }
   ],
   "source": [
    "%%time\n",
    "import moviepy.editor as mpe\n",
    "import numpy as np\n",
    "import os\n",
    "\n",
    "## need to add audio\n",
    "def stitch_clips(input_video_path, num_horizontal_partitions, num_vertical_partitions, border_margin=10): # add 10px contour\n",
    "    @np.vectorize\n",
    "    def get_clips(video_dir, video_filename, clip_index, border_margin):\n",
    "        clip_path = os.path.join(video_dir, '{}_{}'.format(clip_index, video_filename))\n",
    "        return mpe.VideoFileClip(clip_path).margin(border_margin)\n",
    "\n",
    "    video_dir = os.path.dirname(input_video_path)\n",
    "    video_filename = os.path.basename(input_video_path)\n",
    "    clip_index = np.arange(num_horizontal_partitions * num_vertical_partitions).reshape(num_horizontal_partitions, num_vertical_partitions)\n",
    "    all_clips = get_clips(video_dir, video_filename, clip_index, border_margin)\n",
    "    final_clip = mpe.clips_array(all_clips)\n",
    "    #audio_background = mpe.AudioFileClip(input_video_path)\n",
    "    #final_clip = final_clip.set_audio(audio_background)\n",
    "    output_video_path = os.path.join(video_dir, \"stitched_\" + video_filename)\n",
    "    final_clip.write_videofile(output_video_path)\n",
    "\n",
    "    \n",
    "input_video_path = '../input_video/play_dead.mp4' ## define here\n",
    "num_horizontal_partitions = 2 ## define here\n",
    "num_vertical_partitions = 2 ## define here\n",
    "stitch_clips(input_video_path, num_horizontal_partitions, num_vertical_partitions)"
   ]
  },
  {
   "cell_type": "code",
   "execution_count": null,
   "metadata": {},
   "outputs": [],
   "source": []
  },
  {
   "cell_type": "code",
   "execution_count": null,
   "metadata": {},
   "outputs": [],
   "source": []
  },
  {
   "cell_type": "code",
   "execution_count": null,
   "metadata": {},
   "outputs": [],
   "source": []
  },
  {
   "cell_type": "code",
   "execution_count": null,
   "metadata": {},
   "outputs": [],
   "source": []
  },
  {
   "cell_type": "code",
   "execution_count": null,
   "metadata": {},
   "outputs": [],
   "source": []
  },
  {
   "cell_type": "code",
   "execution_count": null,
   "metadata": {},
   "outputs": [],
   "source": []
  },
  {
   "cell_type": "markdown",
   "metadata": {},
   "source": [
    "### DEPRECATED since slower"
   ]
  },
  {
   "cell_type": "code",
   "execution_count": 1,
   "metadata": {},
   "outputs": [
    {
     "name": "stdout",
     "output_type": "stream",
     "text": [
      "[MoviePy] >>>> Building video moviepy_output_1.mp4\n",
      "[MoviePy] >>>> Building video moviepy_output_0.mp4\n",
      "[MoviePy] Writing video moviepy_output_0.mp4\n",
      "[MoviePy] Writing video moviepy_output_1.mp4\n"
     ]
    },
    {
     "name": "stderr",
     "output_type": "stream",
     "text": [
      "100%|██████████| 1802/1802 [00:34<00:00, 52.57it/s]\n",
      "100%|█████████▉| 1799/1802 [00:34<00:00, 51.82it/s]"
     ]
    },
    {
     "name": "stdout",
     "output_type": "stream",
     "text": [
      "[MoviePy] Done.\n",
      "[MoviePy] >>>> Video ready: moviepy_output_0.mp4 \n",
      "\n"
     ]
    },
    {
     "name": "stderr",
     "output_type": "stream",
     "text": [
      "100%|██████████| 1802/1802 [00:34<00:00, 51.86it/s]\n"
     ]
    },
    {
     "name": "stdout",
     "output_type": "stream",
     "text": [
      "[MoviePy] >>>> Building video moviepy_output_2.mp4\n",
      "[MoviePy] Writing video moviepy_output_2.mp4\n"
     ]
    },
    {
     "name": "stderr",
     "output_type": "stream",
     "text": [
      "  0%|          | 7/1802 [00:00<00:26, 67.95it/s]"
     ]
    },
    {
     "name": "stdout",
     "output_type": "stream",
     "text": [
      "[MoviePy] Done.\n",
      "[MoviePy] >>>> Video ready: moviepy_output_1.mp4 \n",
      "\n"
     ]
    },
    {
     "name": "stderr",
     "output_type": "stream",
     "text": [
      "\r",
      "  1%|          | 18/1802 [00:00<00:20, 85.98it/s]"
     ]
    },
    {
     "name": "stdout",
     "output_type": "stream",
     "text": [
      "[MoviePy] >>>> Building video moviepy_output_3.mp4\n",
      "[MoviePy] Writing video moviepy_output_3.mp4\n"
     ]
    },
    {
     "name": "stderr",
     "output_type": "stream",
     "text": [
      "100%|██████████| 1802/1802 [00:34<00:00, 52.41it/s]\n",
      "100%|██████████| 1802/1802 [00:34<00:00, 52.14it/s]\n"
     ]
    },
    {
     "name": "stdout",
     "output_type": "stream",
     "text": [
      "[MoviePy] Done.\n",
      "[MoviePy] >>>> Video ready: moviepy_output_2.mp4 \n",
      "\n",
      "[MoviePy] Done.\n",
      "[MoviePy] >>>> Video ready: moviepy_output_3.mp4 \n",
      "\n",
      "[MoviePy] >>>> Building video moviepy_output_4.mp4\n",
      "[MoviePy] Writing video moviepy_output_4.mp4\n"
     ]
    },
    {
     "name": "stderr",
     "output_type": "stream",
     "text": [
      "  1%|          | 11/1802 [00:00<00:16, 108.50it/s]"
     ]
    },
    {
     "name": "stdout",
     "output_type": "stream",
     "text": [
      "[MoviePy] >>>> Building video moviepy_output_5.mp4\n",
      "[MoviePy] Writing video moviepy_output_5.mp4\n"
     ]
    },
    {
     "name": "stderr",
     "output_type": "stream",
     "text": [
      "100%|██████████| 1802/1802 [00:35<00:00, 50.84it/s]\n",
      "100%|██████████| 1802/1802 [00:35<00:00, 50.93it/s]\n"
     ]
    },
    {
     "name": "stdout",
     "output_type": "stream",
     "text": [
      "[MoviePy] Done.\n",
      "[MoviePy] >>>> Video ready: moviepy_output_4.mp4 \n",
      "\n",
      "[MoviePy] Done.\n",
      "[MoviePy] >>>> Video ready: moviepy_output_5.mp4 \n",
      "\n",
      "CPU times: user 1.34 s, sys: 560 ms, total: 1.9 s\n",
      "Wall time: 1min 46s\n"
     ]
    }
   ],
   "source": [
    "%%time\n",
    "# ideally can run faster with more CPUs or use ffmpeg\n",
    "from moviepy.editor import VideoFileClip\n",
    "import itertools\n",
    "import os\n",
    "from multiprocessing import Pool\n",
    "\n",
    "\n",
    "def crop_video_wrapper(tup):\n",
    "    return crop_video(*tup)\n",
    "\n",
    "def crop_video(input_video_filename, ith_video, jth_horizontal_partition, \n",
    "               kth_vertical_partition, num_horizontal_partitions, num_vertical_partitions):\n",
    "    clip = VideoFileClip(input_video_filename)\n",
    "    video_width, video_height = clip.size\n",
    "    y_delta = int(video_height / num_horizontal_partitions)\n",
    "    x_delta = int(video_width / num_vertical_partitions)\n",
    "\n",
    "    x1 = kth_vertical_partition * x_delta\n",
    "    y1 = jth_horizontal_partition * y_delta\n",
    "    x2 = (kth_vertical_partition + 1) * x_delta\n",
    "    y2 = (jth_horizontal_partition + 1) * y_delta\n",
    "    cropped_clip = clip.crop(x1, y1, x2, y2)\n",
    "    output_video = 'moviepy_output_{}.mp4'.format(ith_video)\n",
    "    if os.path.isfile(output_video):\n",
    "        os.remove(output_video)\n",
    "    cropped_clip.write_videofile(output_video, audio=False)\n",
    "\n",
    "\n",
    "if __name__ == '__main__':\n",
    "    num_horizontal_partitions = 2 ### define here\n",
    "    num_vertical_partitions = 3 ### define here\n",
    "    input_video_filename = '1_minute_720p_video.mp4' ### define here\n",
    "    num_processes = 2 ### define here\n",
    "    \n",
    "    grid = []\n",
    "    ith_video = 0\n",
    "    for jth_horizontal_partition in range(num_horizontal_partitions):\n",
    "        for kth_vertical_partition in range(num_vertical_partitions):\n",
    "            grid.append((input_video_filename, ith_video, jth_horizontal_partition, \n",
    "                kth_vertical_partition, num_horizontal_partitions, num_vertical_partitions))\n",
    "            ith_video += 1\n",
    "        \n",
    "    pool = Pool(num_processes)\n",
    "    pool.map(crop_video_wrapper, grid)\n",
    "    pool.close()\n",
    "    \"\"\"\n",
    "    for ith_video, (jth_horizontal_partition, kth_vertical_partition) in enumerate(\n",
    "    itertools.product(range(num_horizontal_partitions), range(num_vertical_partitions))):\n",
    "    crop_video(input_video_filename, ith_video, jth_horizontal_partition, kth_vertical_partition)\n",
    "    \"\"\";"
   ]
  },
  {
   "cell_type": "code",
   "execution_count": null,
   "metadata": {
    "scrolled": true
   },
   "outputs": [
    {
     "name": "stdout",
     "output_type": "stream",
     "text": [
      "[MoviePy] >>>> Building video my_stack_with_audio.mp4\n",
      "[MoviePy] Writing audio in my_stack_with_audioTEMP_MPY_wvf_snd.mp3\n"
     ]
    },
    {
     "name": "stderr",
     "output_type": "stream",
     "text": [
      "100%|██████████| 1325/1325 [00:01<00:00, 1324.92it/s]\n"
     ]
    },
    {
     "name": "stdout",
     "output_type": "stream",
     "text": [
      "[MoviePy] Done.\n",
      "[MoviePy] Writing video my_stack_with_audio.mp4\n"
     ]
    },
    {
     "name": "stderr",
     "output_type": "stream",
     "text": [
      " 14%|█▍        | 251/1804 [00:07<00:44, 35.19it/s]"
     ]
    }
   ],
   "source": [
    "import moviepy.editor as mpe\n",
    "\n",
    "my_clip = mpe.VideoFileClip('my_stack.mp4')\n",
    "audio_background = mpe.AudioFileClip(input_video_path)\n",
    "final_clip = my_clip.set_audio(audio_background)\n",
    "final_clip.write_videofile('stitched_video.mp4')"
   ]
  }
 ],
 "metadata": {
  "kernelspec": {
   "display_name": "Python 3",
   "language": "python",
   "name": "python3"
  },
  "language_info": {
   "codemirror_mode": {
    "name": "ipython",
    "version": 3
   },
   "file_extension": ".py",
   "mimetype": "text/x-python",
   "name": "python",
   "nbconvert_exporter": "python",
   "pygments_lexer": "ipython3",
   "version": "3.6.4"
  }
 },
 "nbformat": 4,
 "nbformat_minor": 2
}
