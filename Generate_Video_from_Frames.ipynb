{
 "cells": [
  {
   "cell_type": "code",
   "execution_count": 1,
   "metadata": {},
   "outputs": [],
   "source": [
    "from multiprocessing.pool import ThreadPool\n",
    "from multiprocessing import cpu_count\n",
    "from glob import glob\n",
    "import os\n",
    "\n",
    "\n",
    "def get_frame(checkpoint_dir, input_image_path, dir_of_frames, cpu_count=1): # use only 1 CPU to generate 1 frame\n",
    "    output_image_path = os.path.join(dir_of_frames, \"{}{}\".format(checkpoint_dir.split('_')[-1], os.path.splitext(input_image_path)[-1]))    \n",
    "    os.system(\"python evaluate_upgraded.py --checkpoint {} --in-path {} --out-path {} --device /cpu:{}\".format(\n",
    "        checkpoint_dir, input_image_path, output_image_path, cpu_count))\n",
    "\n",
    "def get_frame_wrapper(args):\n",
    "    get_frame(*args)\n",
    "\n",
    "def create_progress_frames(parent_dir_of_checkpoints, input_image_path, output_dir_of_frames):\n",
    "    checkpoint_dirs = (path for path in glob(os.path.join(parent_dir_of_checkpoints, '*')) \n",
    "                       if os.path.isdir(path) and 'checkpoint' in path)\n",
    "    checkpoint_dirs = sorted(checkpoint_dirs, key=lambda path: int(path.split('_')[-1]))\n",
    "    \n",
    "    args_list = zip(checkpoint_dirs, [input_image_path] * len(checkpoint_dirs), [output_dir_of_frames] * len(checkpoint_dirs))\n",
    "    pool = ThreadPool(cpu_count())\n",
    "    temp = pool.map(get_frame_wrapper, args_list)\n",
    "    pool.close()\n",
    "    del pool"
   ]
  },
  {
   "cell_type": "code",
   "execution_count": 2,
   "metadata": {},
   "outputs": [
    {
     "name": "stdout",
     "output_type": "stream",
     "text": [
      "CPU times: user 96 ms, sys: 84 ms, total: 180 ms\n",
      "Wall time: 2min 7s\n"
     ]
    }
   ],
   "source": [
    "%%time\n",
    "create_progress_frames('test_dir_small_data', 'examples/style/udnie.jpg', 'saved_frames')\n",
    "\n",
    "#parent_dir_of_checkpoints = 'test_dir_small_data'\n",
    "#input_image_path = 'examples/style/udnie.jpg'\n",
    "#dir_of_frames = 'saved_frames'"
   ]
  }
 ],
 "metadata": {
  "kernelspec": {
   "display_name": "Python 3",
   "language": "python",
   "name": "python3"
  },
  "language_info": {
   "codemirror_mode": {
    "name": "ipython",
    "version": 3
   },
   "file_extension": ".py",
   "mimetype": "text/x-python",
   "name": "python",
   "nbconvert_exporter": "python",
   "pygments_lexer": "ipython3",
   "version": "3.6.4"
  }
 },
 "nbformat": 4,
 "nbformat_minor": 2
}
