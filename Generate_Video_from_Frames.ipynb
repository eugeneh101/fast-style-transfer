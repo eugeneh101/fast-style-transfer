{
 "cells": [
  {
   "cell_type": "code",
   "execution_count": 1,
   "metadata": {},
   "outputs": [],
   "source": [
    "from multiprocessing.pool import ThreadPool\n",
    "from multiprocessing import cpu_count\n",
    "from glob import glob\n",
    "import os\n",
    "\n",
    "\n",
    "def get_frame(checkpoint_dir, input_image_path, dir_of_frames, cpu_count=1): # use only 1 CPU to generate 1 frame\n",
    "    image_name = \"{:03}{}\".format(int(checkpoint_dir.split('_')[-1]), os.path.splitext(input_image_path)[-1])\n",
    "    output_image_path = os.path.join(dir_of_frames, image_name)\n",
    "    os.system(\"python evaluate_upgraded.py --checkpoint {} --in-path {} --out-path {} --device /cpu:{}\".format(\n",
    "        checkpoint_dir, input_image_path, output_image_path, cpu_count))\n",
    "\n",
    "def get_frame_wrapper(args):\n",
    "    get_frame(*args)\n",
    "\n",
    "def create_progress_frames(parent_dir_of_checkpoints, input_image_path, output_dir_of_frames):\n",
    "    checkpoint_dirs = (path for path in glob(os.path.join(parent_dir_of_checkpoints, '*')) \n",
    "                       if os.path.isdir(path) and 'checkpoint' in path)\n",
    "    checkpoint_dirs = sorted(checkpoint_dirs, key=lambda path: int(path.split('_')[-1]))\n",
    "    args_list = zip(checkpoint_dirs, [input_image_path] * len(checkpoint_dirs), [output_dir_of_frames] * len(checkpoint_dirs))\n",
    "    pool = ThreadPool(cpu_count())\n",
    "    temp = pool.map(get_frame_wrapper, args_list, chunksize=1)\n",
    "    pool.close()\n",
    "    del pool"
   ]
  },
  {
   "cell_type": "code",
   "execution_count": 2,
   "metadata": {
    "scrolled": true
   },
   "outputs": [
    {
     "name": "stdout",
     "output_type": "stream",
     "text": [
      "CPU times: user 108 ms, sys: 168 ms, total: 276 ms\n",
      "Wall time: 2min 9s\n"
     ]
    }
   ],
   "source": [
    "%%time\n",
    "create_progress_frames('test_dir_small_data', 'examples/style/udnie.jpg', 'saved_frames')"
   ]
  },
  {
   "cell_type": "code",
   "execution_count": null,
   "metadata": {},
   "outputs": [],
   "source": []
  },
  {
   "cell_type": "code",
   "execution_count": null,
   "metadata": {},
   "outputs": [],
   "source": []
  },
  {
   "cell_type": "code",
   "execution_count": 1,
   "metadata": {},
   "outputs": [],
   "source": [
    "import imageio\n",
    "from glob import glob\n",
    "import os\n",
    "import math\n",
    "import numpy as np\n",
    "\n",
    "\n",
    "def create_video_from_frames(input_dir_of_frames, output_video_path, video_duration_in_seconds, fps):\n",
    "    sorted_frame_names = sorted(glob(os.path.join(input_dir_of_frames, '*')), key=lambda filename: \n",
    "                                int(os.path.splitext(os.path.basename(filename))[0]))\n",
    "    num_repeats = math.ceil(video_duration_in_seconds * fps / len(sorted_frame_names))\n",
    "    repeated_frame_indices = np.repeat(range(len(sorted_frame_names)), num_repeats)\n",
    "    mask_sample = np.random.choice(repeated_frame_indices, video_duration_in_seconds * fps, replace=False)\n",
    "    mask_sample.sort()\n",
    "    frame_paths_for_video = np.array(sorted_frame_names)[mask_sample]\n",
    "    imageio.mimsave(output_video_path, [imageio.imread(frame_path) for frame_path in frame_paths_for_video], fps=fps)"
   ]
  },
  {
   "cell_type": "code",
   "execution_count": 2,
   "metadata": {},
   "outputs": [
    {
     "name": "stdout",
     "output_type": "stream",
     "text": [
      "CPU times: user 1.19 s, sys: 124 ms, total: 1.31 s\n",
      "Wall time: 13 s\n"
     ]
    }
   ],
   "source": [
    "%%time\n",
    "create_video_from_frames(input_dir_of_frames='saved_frames/', output_video_path='temp_movie.mp4',\n",
    "                        video_duration_in_seconds=15, fps=8) ### hard coded parameters"
   ]
  },
  {
   "cell_type": "code",
   "execution_count": 3,
   "metadata": {
    "scrolled": true
   },
   "outputs": [
    {
     "data": {
      "text/html": [
       "<video controls>\n",
       "  <source src=\"temp_movie.mp4\" type=\"video/mp4\">\n",
       "</video>"
      ],
      "text/plain": [
       "<IPython.core.display.HTML object>"
      ]
     },
     "metadata": {},
     "output_type": "display_data"
    }
   ],
   "source": [
    "%%HTML\n",
    "<video controls>\n",
    "  <source src=\"temp_movie.mp4\" type=\"video/mp4\">\n",
    "</video>"
   ]
  },
  {
   "cell_type": "code",
   "execution_count": null,
   "metadata": {},
   "outputs": [],
   "source": []
  },
  {
   "cell_type": "code",
   "execution_count": null,
   "metadata": {},
   "outputs": [],
   "source": []
  },
  {
   "cell_type": "code",
   "execution_count": null,
   "metadata": {},
   "outputs": [],
   "source": [
    "# to see if GPU is attached or only CPU is attached\n",
    "from tensorflow.python.client import device_lib\n",
    "\n",
    "print(device_lib.list_local_devices())"
   ]
  },
  {
   "cell_type": "code",
   "execution_count": null,
   "metadata": {},
   "outputs": [],
   "source": []
  },
  {
   "cell_type": "code",
   "execution_count": 1,
   "metadata": {
    "scrolled": true
   },
   "outputs": [
    {
     "name": "stdout",
     "output_type": "stream",
     "text": [
      "mkdir: cannot create directory ‘test_dir_small_data_2’: File exists\r\n"
     ]
    }
   ],
   "source": [
    "!mkdir test_dir_small_data_2"
   ]
  },
  {
   "cell_type": "code",
   "execution_count": null,
   "metadata": {},
   "outputs": [],
   "source": [
    "import style_with_multiple_checkpoints\n",
    "\n",
    "# use GPU for runtime max of 1 minute\n",
    "style_with_multiple_checkpoints.create_checkpoints(\n",
    "        # mandatory arguments\n",
    "        style='examples/style/rain_princess.jpg', checkpoint_dir='test_dir_small_data_2/', \n",
    "        device='/gpu:0',\n",
    "        # useful argments\n",
    "        test='examples/content/stata.jpg', test_dir='test_dir_small_data_2/', \n",
    "        epochs=20, checkpoint_iterations=1, batch_size=20, \n",
    "        max_runtime_in_minutes=1, log_file='test_dir_small_data_2/runtime.txt',\n",
    "        # usually don't want to tamper with this argument\n",
    "        train_path=\"data/train2014_small/\"\n",
    ")\n",
    "\n",
    "# use CPU for runtime max of 1 minute\n",
    "import style_with_multiple_checkpoints\n",
    "style_with_multiple_checkpoints.create_checkpoints(\n",
    "        # mandatory arguments\n",
    "        style='examples/style/rain_princess.jpg', checkpoint_dir='test_dir_small_data_2/', \n",
    "        device='/cpu:0', # use all CPUs\n",
    "        # useful argments\n",
    "        test='examples/content/stata.jpg', test_dir='test_dir_small_data_2/', \n",
    "        epochs=20, checkpoint_iterations=1, batch_size=20,\n",
    "        max_runtime_in_minutes=1, log_file='test_dir_small_data_2/runtime.txt',\n",
    "        # usually don't want to tamper with this argument\n",
    "        train_path=\"data/train2014_small/\"\n",
    ")\n",
    "\n",
    "# showing 2 ways to write to file: bash redirection or using --log-file argument\n",
    "python style_with_multiple_checkpoints.py \\\n",
    "  --style examples/style/rain_princess.jpg --checkpoint-dir test_dir_small_data_2/ \\\n",
    "  --device /gpu:0 \\\n",
    "  --test examples/content/stata.jpg --test-dir test_dir_small_data_2/ \\\n",
    "  --epochs 20 --checkpoint-iterations 1 --batch-size 20 \\\n",
    "  --max-runtime-in-minutes 1 \\\n",
    "  --train-path data/train2014_small/ \\\n",
    "  &> test_dir_small_data_2/runtime.txt    \n",
    "# identical to \n",
    "python style_with_multiple_checkpoints.py \\\n",
    "  --style examples/style/rain_princess.jpg --checkpoint-dir test_dir_small_data_2/ \\\n",
    "  --device /gpu:0 \\\n",
    "  --test examples/content/stata.jpg --test-dir test_dir_small_data_2/ \\\n",
    "  --epochs 20 --checkpoint-iterations 1 --batch-size 20 \\\n",
    "  --max-runtime-in-minutes 1 \\\n",
    "  --train-path data/train2014_small/ \\\n",
    "  --log-file test_dir_small_data_2/runtime.txt"
   ]
  },
  {
   "cell_type": "code",
   "execution_count": null,
   "metadata": {},
   "outputs": [],
   "source": []
  },
  {
   "cell_type": "code",
   "execution_count": 17,
   "metadata": {},
   "outputs": [
    {
     "name": "stdout",
     "output_type": "stream",
     "text": [
      "Writing create_checkpoints.sh\n"
     ]
    }
   ],
   "source": [
    "%%file create_checkpoints.sh\n",
    "# For style image rain_princess.jpg, save the checkpoints to directory called princess_checkpoints_1_GPU/\n",
    "# using a GPU. For every checkpoint, apply the style onto stata.jpg and save the \n",
    "# test image to directory called princess_checkpoints_1_GPU/\n",
    "# Run the model for 2 epochs and save a checkpoint every 50 batches where each \n",
    "# batch is 20 pictures OR run for a maximum of 240 minutes; stop at whichever conditions\n",
    "# completes first. Save the log file to runtime.txt\n",
    "mkdir princess_checkpoints_1_GPU\n",
    "python style_with_multiple_checkpoints.py \\\n",
    "  --style examples/style/rain_princess.jpg --checkpoint-dir princess_checkpoints_1_GPU/ \\\n",
    "  --device /gpu:0 \\\n",
    "  --test examples/content/stata.jpg --test-dir princess_checkpoints_1_GPU/ \\\n",
    "  --epochs 2 --checkpoint-iterations 50 --batch-size 20 \\\n",
    "  --max-runtime-in-minutes 240 \\\n",
    "  &> princess_checkpoints_1_GPU/runtime.txt\n",
    "    \n",
    "\n",
    "# Doing the same using 1 CPU\n",
    "# Notice the batch-size is 5 (instead of 20) and checkpoint-iterations is 5 (instead of 50). \n",
    "# The reason is that CPU is much slower, so this change makes checkpoints occur \n",
    "# more frequently (i.e. every couple of minutes instead of every half hour)\n",
    "mkdir princess_checkpoints_1_CPU\n",
    "python style_with_multiple_checkpoints.py \\\n",
    "  --style examples/style/rain_princess.jpg --checkpoint-dir princess_checkpoints_1_CPU/ \\\n",
    "  --device /cpu:1 \\\n",
    "  --test examples/content/stata.jpg --test-dir princess_checkpoints_1_CPU/ \\\n",
    "  --epochs 2 --checkpoint-iterations 5 --batch-size 20 \\\n",
    "  --max-runtime-in-minutes 240 \\\n",
    "  &> princess_checkpoints_1_CPU/runtime.txt\n",
    "    \n",
    "    \n",
    "# Doing the same using 32 CPUs; Use /cpu:0 if you just want to use all CPUs\n",
    "# because using /cpu:32 when you have fewer than 32 CPUs might cause problems.\n",
    "# Notice the batch-size is 5 (instead of 20) and checkpoint-iterations is 5 (instead of 50). \n",
    "# The reason is that CPU is much slower, so this change makes checkpoints occur \n",
    "# more frequently (i.e. every couple of minutes instead of every half hour)\n",
    "mkdir princess_checkpoints_all_CPU\n",
    "python style_with_multiple_checkpoints.py \\\n",
    "  --style examples/style/rain_princess.jpg --checkpoint-dir princess_checkpoints_all_CPU/ \\\n",
    "  --device /cpu:32 \\\n",
    "  --test examples/content/stata.jpg --test-dir princess_checkpoints_all_CPU/ \\\n",
    "  --epochs 2 --checkpoint-iterations 5 --batch-size 20 \\\n",
    "  --max-runtime-in-minutes 240 \\\n",
    "  &> princess_checkpoints_all_CPU/runtime.txt    "
   ]
  },
  {
   "cell_type": "code",
   "execution_count": null,
   "metadata": {},
   "outputs": [],
   "source": []
  },
  {
   "cell_type": "markdown",
   "metadata": {},
   "source": [
    "runtime to infinity None  \n",
    "logfile None done  \n",
    "CPU mode: done  \n",
    "\n",
    "glances\n",
    "\n",
    "test on good EC2 instance: problem CPU and GPU do not mix well"
   ]
  }
 ],
 "metadata": {
  "kernelspec": {
   "display_name": "Python 3",
   "language": "python",
   "name": "python3"
  },
  "language_info": {
   "codemirror_mode": {
    "name": "ipython",
    "version": 3
   },
   "file_extension": ".py",
   "mimetype": "text/x-python",
   "name": "python",
   "nbconvert_exporter": "python",
   "pygments_lexer": "ipython3",
   "version": "3.6.4"
  }
 },
 "nbformat": 4,
 "nbformat_minor": 2
}
