{
 "cells": [
  {
   "cell_type": "code",
   "execution_count": 1,
   "metadata": {},
   "outputs": [],
   "source": [
    "from multiprocessing.pool import ThreadPool\n",
    "from multiprocessing import cpu_count\n",
    "from glob import glob\n",
    "import os\n",
    "\n",
    "\n",
    "def get_frame(checkpoint_dir, input_image_path, dir_of_frames, cpu_count=1): # use only 1 CPU to generate 1 frame\n",
    "    output_image_path = os.path.join(dir_of_frames, \"{}{}\".format(checkpoint_dir.split('_')[-1], os.path.splitext(input_image_path)[-1]))    \n",
    "    os.system(\"python evaluate_upgraded.py --checkpoint {} --in-path {} --out-path {} --device /cpu:{}\".format(\n",
    "        checkpoint_dir, input_image_path, output_image_path, cpu_count))\n",
    "\n",
    "def get_frame_wrapper(args):\n",
    "    get_frame(*args)\n",
    "\n",
    "def create_progress_frames(parent_dir_of_checkpoints, input_image_path, output_dir_of_frames):\n",
    "    checkpoint_dirs = (path for path in glob(os.path.join(parent_dir_of_checkpoints, '*')) \n",
    "                       if os.path.isdir(path) and 'checkpoint' in path)\n",
    "    checkpoint_dirs = sorted(checkpoint_dirs, key=lambda path: int(path.split('_')[-1]))\n",
    "    \n",
    "    args_list = zip(checkpoint_dirs, [input_image_path] * len(checkpoint_dirs), [output_dir_of_frames] * len(checkpoint_dirs))\n",
    "    pool = ThreadPool(cpu_count())\n",
    "    temp = pool.map(get_frame_wrapper, args_list)\n",
    "    pool.close()\n",
    "    del pool"
   ]
  },
  {
   "cell_type": "code",
   "execution_count": 2,
   "metadata": {
    "scrolled": true
   },
   "outputs": [
    {
     "name": "stdout",
     "output_type": "stream",
     "text": [
      "CPU times: user 96 ms, sys: 84 ms, total: 180 ms\n",
      "Wall time: 2min 7s\n"
     ]
    }
   ],
   "source": [
    "%%time\n",
    "create_progress_frames('test_dir_small_data', 'examples/style/udnie.jpg', 'saved_frames')"
   ]
  },
  {
   "cell_type": "code",
   "execution_count": null,
   "metadata": {},
   "outputs": [],
   "source": []
  },
  {
   "cell_type": "code",
   "execution_count": null,
   "metadata": {},
   "outputs": [],
   "source": []
  },
  {
   "cell_type": "code",
   "execution_count": 9,
   "metadata": {},
   "outputs": [],
   "source": [
    "import imageio\n",
    "from glob import glob\n",
    "import os\n",
    "import math\n",
    "import numpy as np\n",
    "\n",
    "\n",
    "def create_video_from_frames(input_dir_of_frames, output_video_path, video_duration_in_seconds, fps):\n",
    "    sorted_frame_names = sorted(glob(os.path.join(output_dir_of_frames, '*')), key=lambda filename: \n",
    "                                int(os.path.splitext(os.path.basename(filename))[0]))\n",
    "    num_repeats = math.ceil(video_duration_in_seconds * fps / len(sorted_frame_names))\n",
    "    repeated_frame_indices = np.repeat(range(len(sorted_frame_names)), num_repeats)\n",
    "    mask_sample = np.random.choice(repeated_frame_indices, video_duration_in_seconds * fps, replace=False)\n",
    "    mask_sample.sort()\n",
    "    frame_paths_for_video = np.array(sorted_frame_names)[mask_sample]\n",
    "    imageio.mimsave(output_video_path, [imageio.imread(frame_path) for frame_path in frame_paths_for_video], fps=fps)"
   ]
  },
  {
   "cell_type": "code",
   "execution_count": 12,
   "metadata": {},
   "outputs": [],
   "source": [
    "create_video_from_frames(input_dir_of_frames='saved_frames/', output_video_path='temp_movie.mp4',\n",
    "                        video_duration_in_seconds=15, fps=16) ### hard coded parameters"
   ]
  },
  {
   "cell_type": "code",
   "execution_count": 18,
   "metadata": {},
   "outputs": [
    {
     "data": {
      "text/html": [
       "<video controls>\n",
       "  <source src=\"temp_movie.mp4\" type=\"video/mp4\">\n",
       "</video>"
      ],
      "text/plain": [
       "<IPython.core.display.HTML object>"
      ]
     },
     "metadata": {},
     "output_type": "display_data"
    }
   ],
   "source": [
    "%%HTML\n",
    "<video controls>\n",
    "  <source src=\"temp_movie.mp4\" type=\"video/mp4\">\n",
    "</video>"
   ]
  },
  {
   "cell_type": "code",
   "execution_count": null,
   "metadata": {},
   "outputs": [],
   "source": []
  },
  {
   "cell_type": "code",
   "execution_count": null,
   "metadata": {},
   "outputs": [],
   "source": []
  },
  {
   "cell_type": "code",
   "execution_count": null,
   "metadata": {},
   "outputs": [],
   "source": []
  },
  {
   "cell_type": "code",
   "execution_count": 1,
   "metadata": {},
   "outputs": [
    {
     "name": "stdout",
     "output_type": "stream",
     "text": [
      "mkdir: cannot create directory ‘test_dir_small_data_2’: File exists\r\n"
     ]
    }
   ],
   "source": [
    "!mkdir test_dir_small_data_2"
   ]
  },
  {
   "cell_type": "code",
   "execution_count": null,
   "metadata": {},
   "outputs": [],
   "source": [
    "import style_with_multiple_checkpoints\n",
    "\n",
    "\n",
    "style_with_multiple_checkpoints.create_checkpoints(\n",
    "        # mandatory arguments\n",
    "        style='examples/style/rain_princess.jpg', checkpoint_dir='test_dir_small_data_2/', \n",
    "        device_and_number='/gpu:0', # use all CPUs\n",
    "        # useful argments\n",
    "        test='examples/content/stata.jpg', test_dir='test_dir_small_data_2/', \n",
    "        epochs=20, checkpoint_iterations=1, batch_size=20, max_runtime_in_minutes=1,\n",
    "        log_file='test_dir_small_data_2/runtime.txt'\n",
    "        # usually don't want to tamper with this argument\n",
    "        train_path=\"data/train2014_small/\"\n",
    ")\n",
    "\n",
    "python style_with_multiple_checkpoints.py --style examples/style/rain_princess.jpg --checkpoint-dir test_dir_small_data_2/ \\\n",
    "  --device /gpu:0 --test examples/content/stata.jpg --test-dir test_dir_small_data_2/ --epochs 20 \\\n",
    "  --checkpoint-iterations 1 --batch-size 20 --max-runtime-in-minutes 1 --train-path data/train2014_small/ \\\n",
    "  --log_file test_dir_small_data_2/runtime.txt"
   ]
  },
  {
   "cell_type": "code",
   "execution_count": null,
   "metadata": {},
   "outputs": [],
   "source": []
  },
  {
   "cell_type": "code",
   "execution_count": null,
   "metadata": {},
   "outputs": [],
   "source": [
    "test defaults with logfile None and runtime None\n",
    "output_file\n",
    "CPU mode: done\n",
    "\n",
    "glances"
   ]
  },
  {
   "cell_type": "code",
   "execution_count": null,
   "metadata": {},
   "outputs": [],
   "source": []
  },
  {
   "cell_type": "code",
   "execution_count": null,
   "metadata": {},
   "outputs": [],
   "source": []
  },
  {
   "cell_type": "code",
   "execution_count": null,
   "metadata": {},
   "outputs": [],
   "source": []
  },
  {
   "cell_type": "code",
   "execution_count": null,
   "metadata": {},
   "outputs": [],
   "source": [
    "from tensorflow.python.client import device_lib\n",
    "\n",
    "device_lib.list_local_devices()"
   ]
  }
 ],
 "metadata": {
  "kernelspec": {
   "display_name": "Python 3",
   "language": "python",
   "name": "python3"
  },
  "language_info": {
   "codemirror_mode": {
    "name": "ipython",
    "version": 3
   },
   "file_extension": ".py",
   "mimetype": "text/x-python",
   "name": "python",
   "nbconvert_exporter": "python",
   "pygments_lexer": "ipython3",
   "version": "3.6.4"
  }
 },
 "nbformat": 4,
 "nbformat_minor": 2
}
